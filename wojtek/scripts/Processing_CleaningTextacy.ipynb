{
 "cells": [
  {
   "cell_type": "code",
   "execution_count": 1,
   "metadata": {},
   "outputs": [
    {
     "name": "stderr",
     "output_type": "stream",
     "text": [
      "/home/w/anaconda3/envs/idp3exp/lib/python3.6/site-packages/h5py/__init__.py:34: FutureWarning: Conversion of the second argument of issubdtype from `float` to `np.floating` is deprecated. In future, it will be treated as `np.float64 == np.dtype(float).type`.\n",
      "  from ._conv import register_converters as _register_converters\n",
      "Using TensorFlow backend.\n"
     ]
    }
   ],
   "source": [
    "import gc\n",
    "\n",
    "import numpy as np\n",
    "import pandas as pd\n",
    "import spacy\n",
    "import textacy\n",
    "import utils_clean\n",
    "import utils_text\n",
    "from gensim.models import KeyedVectors\n",
    "from nltk.corpus import stopwords\n",
    "from tqdm import tqdm"
   ]
  },
  {
   "cell_type": "code",
   "execution_count": 2,
   "metadata": {},
   "outputs": [
    {
     "name": "stderr",
     "output_type": "stream",
     "text": [
      "100%|██████████| 2/2 [00:25<00:00, 12.80s/it]\n",
      "100%|██████████| 2/2 [00:08<00:00,  4.49s/it]\n",
      "100%|██████████| 2/2 [00:23<00:00, 11.85s/it]\n",
      "100%|██████████| 2/2 [00:07<00:00,  3.88s/it]\n"
     ]
    }
   ],
   "source": [
    "train = pd.read_csv(\"../input/train.csv\")\n",
    "test = pd.read_csv(\"../input/test.csv\")\n",
    "\n",
    "train.fillna('CVxTz', inplace = True)\n",
    "train = utils_clean.apply_wordlist_clean(train)\n",
    "train = utils_clean.apply_basic_cleaning(train)\n",
    "\n",
    "test.fillna('CVxTz', inplace = True)\n",
    "test = utils_clean.apply_wordlist_clean(test)\n",
    "test = utils_clean.apply_basic_cleaning(test)"
   ]
  },
  {
   "cell_type": "code",
   "execution_count": 3,
   "metadata": {},
   "outputs": [],
   "source": [
    "train.comment_text = train.comment_text.apply(lambda x: textacy.preprocess.preprocess_text(x, fix_unicode = True,\n",
    "                                                                            lowercase = True,\n",
    "                                                                            no_contractions = True,\n",
    "                                                                            transliterate = True))\n",
    "\n",
    "test.comment_text = test.comment_text.apply(lambda x: textacy.preprocess.preprocess_text(x, fix_unicode = True,\n",
    "                                                                            lowercase = True,\n",
    "                                                                            no_contractions = True,\n",
    "                                                                            transliterate = True))"
   ]
  },
  {
   "cell_type": "code",
   "execution_count": 4,
   "metadata": {
    "scrolled": false
   },
   "outputs": [
    {
     "name": "stderr",
     "output_type": "stream",
     "text": [
      "159571it [28:00, 94.94it/s]\n",
      "153164it [24:34, 103.84it/s]\n"
     ]
    }
   ],
   "source": [
    "nlp = spacy.load('en')\n",
    "stops = stopwords.words(\"english\")\n",
    "\n",
    "\n",
    "q1 = []\n",
    "for doc in tqdm(nlp.pipe(train['comment_text'], n_threads=8, batch_size=128)):\n",
    "    word_list = ([c.lemma_.strip() for c in doc if c.lemma_ not in stops])\n",
    "    q1.append(' '.join(i for i in word_list))\n",
    "\n",
    "\n",
    "q2 = []\n",
    "for doc in tqdm(nlp.pipe(test['comment_text'], n_threads=8, batch_size=128)):\n",
    "    word_list = ([c.lemma_.strip() for c in doc if c.lemma_ not in stops])\n",
    "    q2.append(' '.join(i for i in word_list))"
   ]
  },
  {
   "cell_type": "code",
   "execution_count": 5,
   "metadata": {},
   "outputs": [],
   "source": [
    "q1 = pd.Series(q1)\n",
    "q2 = pd.Series(q2)\n",
    "\n",
    "train.comment_text = q1\n",
    "test.comment_text = q2"
   ]
  },
  {
   "cell_type": "code",
   "execution_count": 6,
   "metadata": {},
   "outputs": [],
   "source": [
    "train.to_pickle('../data/train_textacy_clean.pkl')\n",
    "test.to_pickle('../data/test_textacy_clean.pkl')"
   ]
  },
  {
   "cell_type": "code",
   "execution_count": 7,
   "metadata": {},
   "outputs": [],
   "source": [
    "train.comment_text = train.comment_text.apply(lambda x: (' '.join([utils_clean.correction(i) for i in utils_text.word_tokenize(x)])))\n",
    "test.comment_text = test.comment_text.apply(lambda x: (' '.join([utils_clean.correction(i) for i in utils_text.word_tokenize(x)])))"
   ]
  },
  {
   "cell_type": "code",
   "execution_count": 8,
   "metadata": {},
   "outputs": [],
   "source": [
    "train.to_pickle('../data/train_textacy_fullclean.pkl')\n",
    "test.to_pickle('../data/test_textacy_fullclean.pkl')"
   ]
  },
  {
   "cell_type": "raw",
   "metadata": {},
   "source": [
    "vectorizer = textacy.Vectorizer(\n",
    " weighting='tfidf', normalize=True, smooth_idf=True,\n",
    "min_df=2, max_df=0.95)\n",
    "doc_term_matrix = vectorizer.fit_transform(\n",
    "(doc.to_terms_list(ngrams=1, named_entities=True, as_strings=True)\n",
    "for doc in corpus))"
   ]
  }
 ],
 "metadata": {
  "kernelspec": {
   "display_name": "Python 3",
   "language": "python",
   "name": "python3"
  },
  "language_info": {
   "codemirror_mode": {
    "name": "ipython",
    "version": 3
   },
   "file_extension": ".py",
   "mimetype": "text/x-python",
   "name": "python",
   "nbconvert_exporter": "python",
   "pygments_lexer": "ipython3",
   "version": "3.6.3"
  }
 },
 "nbformat": 4,
 "nbformat_minor": 2
}
