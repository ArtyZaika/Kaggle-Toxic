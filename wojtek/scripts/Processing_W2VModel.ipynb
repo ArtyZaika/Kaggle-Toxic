{
 "cells": [
  {
   "cell_type": "markdown",
   "metadata": {},
   "source": [
    "- http://adventuresinmachinelearning.com/gensim-word2vec-tutorial/\n",
    "- https://machinelearningmastery.com/develop-word-embeddings-python-gensim/"
   ]
  },
  {
   "cell_type": "code",
   "execution_count": 1,
   "metadata": {
    "scrolled": true
   },
   "outputs": [
    {
     "name": "stderr",
     "output_type": "stream",
     "text": [
      "Using TensorFlow backend.\n"
     ]
    }
   ],
   "source": [
    "import gc\n",
    "import numpy as np\n",
    "import pandas as pd\n",
    "import utils\n",
    "import utils_clean\n",
    "import utils_text\n",
    "\n",
    "from nltk.corpus import stopwords\n",
    "from gensim.models import KeyedVectors\n",
    "from tqdm import tqdm\n",
    "\n",
    "from keras.preprocessing import text, sequence"
   ]
  },
  {
   "cell_type": "code",
   "execution_count": 2,
   "metadata": {},
   "outputs": [],
   "source": [
    "max_features = 300000\n",
    "sequence_length = 196\n",
    "embedding_dim = 300\n",
    "create_embedding = True"
   ]
  },
  {
   "cell_type": "code",
   "execution_count": 3,
   "metadata": {},
   "outputs": [
    {
     "name": "stdout",
     "output_type": "stream",
     "text": [
      "Load data with basic cleaning.\n"
     ]
    }
   ],
   "source": [
    "train, test = utils.load_data('../data/', 'BasicClean')"
   ]
  },
  {
   "cell_type": "code",
   "execution_count": 4,
   "metadata": {
    "scrolled": true
   },
   "outputs": [],
   "source": [
    "train.comment_text = train.comment_text.apply(lambda x: utils_text.word_tokenize(x))\n",
    "test.comment_text = test.comment_text.apply(lambda x: utils_text.word_tokenize(x))\n",
    "\n",
    "sentences = train.comment_text.tolist() + test.comment_text.tolist()"
   ]
  },
  {
   "cell_type": "code",
   "execution_count": 5,
   "metadata": {},
   "outputs": [],
   "source": [
    "from gensim.models import Word2Vec\n",
    "\n",
    "model = Word2Vec(sentences, size=300, window=5, min_count=1, sample=1e-3, workers=8)\n",
    "model.wv.save_word2vec_format('../data/embeddings/W2VGensim_BasicCleanMin1.txt', binary=False)"
   ]
  },
  {
   "cell_type": "code",
   "execution_count": 6,
   "metadata": {
    "scrolled": true
   },
   "outputs": [
    {
     "name": "stderr",
     "output_type": "stream",
     "text": [
      "/home/w/anaconda3/envs/idp3/lib/python3.6/site-packages/ipykernel_launcher.py:1: DeprecationWarning: Call to deprecated `__getitem__` (Method will be removed in 4.0.0, use self.wv.__getitem__() instead).\n",
      "  \"\"\"Entry point for launching an IPython kernel.\n"
     ]
    },
    {
     "data": {
      "text/plain": [
       "array([[ -1.48167968e+00,  -2.15193868e+00,  -2.32349038e+00, ...,\n",
       "          1.94807518e-02,   2.44001552e-01,  -9.59202826e-01],\n",
       "       [ -1.36849582e-01,   5.91230512e-01,  -4.51379597e-01, ...,\n",
       "          8.65070701e-01,  -2.89726466e-01,  -5.39285123e-01],\n",
       "       [ -1.98536670e+00,  -1.59185326e+00,  -1.43934441e+00, ...,\n",
       "          5.41476727e-01,  -1.06707919e+00,  -1.00698435e+00],\n",
       "       ..., \n",
       "       [  4.28015925e-03,   1.72245856e-02,   1.34850352e-03, ...,\n",
       "          2.78985943e-04,  -1.42969387e-02,   1.68619193e-02],\n",
       "       [ -2.77456711e-03,  -1.32992398e-03,   2.24754307e-03, ...,\n",
       "         -4.08464437e-03,  -1.01785725e-02,   5.38388873e-03],\n",
       "       [  9.94872861e-03,   1.12974243e-02,  -6.92024827e-03, ...,\n",
       "          7.70321814e-03,  -1.80545710e-02,   7.61171663e-03]], dtype=float32)"
      ]
     },
     "execution_count": 6,
     "metadata": {},
     "output_type": "execute_result"
    }
   ],
   "source": [
    "X = model[model.wv.vocab]\n",
    "X"
   ]
  },
  {
   "cell_type": "code",
   "execution_count": 7,
   "metadata": {},
   "outputs": [
    {
     "data": {
      "text/plain": [
       "(286916, 300)"
      ]
     },
     "execution_count": 7,
     "metadata": {},
     "output_type": "execute_result"
    }
   ],
   "source": [
    "X.shape"
   ]
  },
  {
   "cell_type": "code",
   "execution_count": null,
   "metadata": {},
   "outputs": [],
   "source": []
  }
 ],
 "metadata": {
  "kernelspec": {
   "display_name": "Python 3",
   "language": "python",
   "name": "python3"
  },
  "language_info": {
   "codemirror_mode": {
    "name": "ipython",
    "version": 3
   },
   "file_extension": ".py",
   "mimetype": "text/x-python",
   "name": "python",
   "nbconvert_exporter": "python",
   "pygments_lexer": "ipython3",
   "version": "3.6.3"
  }
 },
 "nbformat": 4,
 "nbformat_minor": 2
}
