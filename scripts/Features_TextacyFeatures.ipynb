{
 "cells": [
  {
   "cell_type": "code",
   "execution_count": null,
   "metadata": {},
   "outputs": [],
   "source": [
    "import gc\n",
    "\n",
    "import numpy as np\n",
    "import pandas as pd\n",
    "import spacy\n",
    "import textacy\n",
    "import utils\n",
    "import utils_clean\n",
    "import utils_text\n",
    "from gensim.models import KeyedVectors\n",
    "from keras.preprocessing import sequence, text\n",
    "from nltk.corpus import stopwords\n",
    "from tqdm import tqdm"
   ]
  },
  {
   "cell_type": "code",
   "execution_count": null,
   "metadata": {
    "scrolled": true
   },
   "outputs": [],
   "source": [
    "train, test = utils.load_data(src, mode='BasicClean')\n",
    "data = pd.concat([train, test]).reset_index(drop=True)\n",
    "\n",
    "sentences = train.comment_text.tolist() + test.comment_text.tolist()"
   ]
  },
  {
   "cell_type": "code",
   "execution_count": null,
   "metadata": {},
   "outputs": [],
   "source": [
    "# corpus = textacy.Corpus(spacy.load('en'), texts = sentences)\n",
    "corpus = textacy.Corpus.load('../data/features/feature_Textacy_Corpus')\n",
    "terms_list = (doc.to_terms_list(ngrams=1, named_entities=True, as_strings=True) for doc in corpus)\n",
    "\n",
    "\n",
    "vectorizer = textacy.vsm.Vectorizer(\n",
    "    weighting='tfidf', normalize=True, smooth_idf=True,\n",
    "    min_df=2, max_df=0.95, max_n_terms=100000)\n",
    "\n",
    "doc_term_matrix = vectorizer.fit_transform(terms_list)\n",
    "id2term = vectorizer.id_to_term"
   ]
  },
  {
   "cell_type": "code",
   "execution_count": null,
   "metadata": {},
   "outputs": [],
   "source": [
    "info_content = textacy.vsm.get_information_content(doc_term_matrix)\n",
    "doc_freq = textacy.vsm.get_doc_freqs(doc_term_matrix)\n",
    "term_freq = textacy.vsm.get_term_freqs(doc_term_matrix)"
   ]
  },
  {
   "cell_type": "code",
   "execution_count": null,
   "metadata": {
    "scrolled": true
   },
   "outputs": [],
   "source": [
    "import time\n",
    "from textacy import keyterms\n",
    "\n",
    "t = time.time()\n",
    "\n",
    "docfreq_dict = {}\n",
    "for i, val in id2term.items():\n",
    "    docfreq_dict[val] = doc_freq[i]\n",
    "    \n",
    "termfreq_dict = {}\n",
    "for i, val in id2term.items():\n",
    "    termfreq_dict[val] = term_freq[i]\n",
    "    \n",
    "info_dict = {}\n",
    "for i, val in id2term.items():\n",
    "    info_dict[val] = info_content[i]\n",
    "    \n",
    "    \n",
    "keyterms_dict = {}\n",
    "for i in corpus:\n",
    "    try:\n",
    "        keyterms_dict[i.text] = keyterms.key_terms_from_semantic_network(i)[0][1]\n",
    "    except IndexError:\n",
    "        keyterms_dict[i.text] = 0.0\n",
    "    except ValueError:\n",
    "        keyterms_dict[i.text] = 0.0\n",
    "        \n",
    "\"\"\"\n",
    "keyterms_sgrank_dict = {}\n",
    "for i in corpus:\n",
    "    try:\n",
    "        keyterms_sgrank_dict[i.text] = keyterms.sgrank(i)[0][1]\n",
    "    except IndexError:\n",
    "        keyterms_sgrank_dict[i.text] = 0.0\n",
    "    except ValueError:\n",
    "        keyterms_sgrank_dict[i.text] = 0.0\n",
    "\"\"\"\n",
    "print('Time it took to create dictionaries:', time.time() - t)"
   ]
  },
  {
   "cell_type": "code",
   "execution_count": null,
   "metadata": {},
   "outputs": [],
   "source": [
    "def apply_dict(x, dict_to_apply):\n",
    "    new_x = []\n",
    "    for i in x:\n",
    "        try:\n",
    "            i = dict_to_apply[(str(i))]\n",
    "        except KeyError:\n",
    "            i = 0\n",
    "        new_x.append(i)\n",
    "    return np.array(new_x)"
   ]
  },
  {
   "cell_type": "code",
   "execution_count": null,
   "metadata": {},
   "outputs": [],
   "source": [
    "df_features = pd.DataFrame()\n",
    "\n",
    "df_features['comment_text_doc'] = data['comment_text'].apply(lambda x: textacy.doc.Doc(x, lang = 'en'))\n",
    "df_features['comment_text_doc'] = data['comment_text_doc'].apply(lambda x: list(textacy.extract.ngrams(x, 3)))\n",
    "\n",
    "df_features['q1_docfreq_max'] = data['comment_text_doc'].apply(lambda x: np.max(apply_dict(x, docfreq_dict)) if len(x) > 0 else 0)\n",
    "df_features['q1_termfreq_max'] = data['comment_text_doc'].apply(lambda x: np.max(apply_dict(x, termfreq_dict)) if len(x) > 0 else 0)\n",
    "df_features['q1_infocontent_max'] = data['comment_text_doc'].apply(lambda x: np.max(apply_dict(x, info_dict)) if len(x) > 0 else 0)\n",
    "df_features['q1_keyterms_max'] = data['comment_text'].map(keyterms_dict)\n",
    "\n",
    "df_features['q1_docfreq_mean'] = data['comment_text_doc'].apply(lambda x: np.mean(apply_dict(x, docfreq_dict)) if len(x) > 0 else 0)\n",
    "df_features['q1_termfreq_mean'] = data['comment_text_doc'].apply(lambda x: np.mean(apply_dict(x, termfreq_dict)) if len(x) > 0 else 0)\n",
    "df_features['q1_infocontent_mean'] = data['comment_text_doc'].apply(lambda x: np.mean(apply_dict(x, info_dict)) if len(x) > 0 else 0)\n",
    "\n",
    "df_features['q1_keyterms_mean'] = data['comment_text'].map(keyterms_dict)\n",
    "\n",
    "\n",
    "#df_features['q1_sgrank_mean'] = data['comment_text'].map(keyterms_sgrank_dict)\n",
    "#df_features['q1_sgrank_max'] = data['comment_text'].map(keyterms_sgrank_dict)\n",
    "\n",
    "df_features"
   ]
  },
  {
   "cell_type": "code",
   "execution_count": null,
   "metadata": {},
   "outputs": [],
   "source": [
    "df_features.to_pickle('../data/features/data_TextacyFeatures.pkl')"
   ]
  },
  {
   "cell_type": "code",
   "execution_count": null,
   "metadata": {},
   "outputs": [],
   "source": []
  }
 ],
 "metadata": {
  "kernelspec": {
   "display_name": "Python 3",
   "language": "python",
   "name": "python3"
  },
  "language_info": {
   "codemirror_mode": {
    "name": "ipython",
    "version": 3
   },
   "file_extension": ".py",
   "mimetype": "text/x-python",
   "name": "python",
   "nbconvert_exporter": "python",
   "pygments_lexer": "ipython3",
   "version": "3.6.3"
  }
 },
 "nbformat": 4,
 "nbformat_minor": 2
}
